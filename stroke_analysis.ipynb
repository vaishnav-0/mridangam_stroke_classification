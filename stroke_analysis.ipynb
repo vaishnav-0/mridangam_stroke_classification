{
 "cells": [
  {
   "cell_type": "markdown",
   "source": [
    "# Stroke analysis\n"
   ],
   "metadata": {
    "collapsed": false,
    "pycharm": {
     "name": "#%% md\n"
    }
   }
  },
  {
   "cell_type": "code",
   "execution_count": 1,
   "outputs": [],
   "source": [
    "# Import extras and supress warnings to keep the tutorial clean\n",
    "import os\n",
    "import random\n",
    "import warnings\n",
    "\n",
    "## Importing compiam to the project\n",
    "\n",
    "warnings.filterwarnings('ignore')\n"
   ],
   "metadata": {
    "collapsed": false,
    "pycharm": {
     "name": "#%%\n"
    }
   }
  },
  {
   "cell_type": "code",
   "execution_count": 2,
   "outputs": [
    {
     "name": "stderr",
     "output_type": "stream",
     "text": [
      "[   INFO   ] MusicExtractorSVM: no classifier models were configured by default\n"
     ]
    }
   ],
   "source": [
    "from compiam.timbre.stroke_classification import MridangamStrokeClassification\n",
    "\n",
    "msc = MridangamStrokeClassification()"
   ],
   "metadata": {
    "collapsed": false,
    "pycharm": {
     "name": "#%%\n"
    }
   }
  },
  {
   "cell_type": "code",
   "execution_count": 3,
   "outputs": [
    {
     "name": "stderr",
     "output_type": "stream",
     "text": [
      "100%|██████████| 6976/6976 [00:00<00:00, 13396.76it/s]\n"
     ]
    }
   ],
   "source": [
    "msc.load_mridangam_dataset(data_home=\"../audio/mir_dataset/\")"
   ],
   "metadata": {
    "collapsed": false,
    "pycharm": {
     "name": "#%%\n"
    }
   }
  },
  {
   "cell_type": "code",
   "execution_count": 4,
   "outputs": [],
   "source": [
    "# Loading tracks for the mirdangam dataset\n",
    "mridangam_tracks = msc.dataset.load_tracks()\n",
    "\n",
    "# Getting list of id per split\n",
    "# NOTE: We use (0.9, 0.1): two splits including 90% and 10% of the whole dataset\n",
    "split_dict = msc.dataset.get_random_track_splits(\n",
    "    splits=(0.9, 0.1),\n",
    "    split_names=(\"train\", \"validation\")\n",
    ")\n",
    "\n",
    "# Get track dictionaries given the created splits\n",
    "train_split = {x: mridangam_tracks[x] for x in split_dict[\"train\"]}\n",
    "evaluation_split = {y: mridangam_tracks[y] for y in split_dict[\"validation\"]}\n",
    "\n",
    "msc.mridangam_tracks = train_split\n",
    "msc.mridangam_ids = list(train_split.keys())\n"
   ],
   "metadata": {
    "collapsed": false,
    "pycharm": {
     "name": "#%%\n"
    }
   }
  },
  {
   "cell_type": "code",
   "execution_count": 5,
   "outputs": [
    {
     "name": "stderr",
     "output_type": "stream",
     "text": [
      " 20%|██        | 2/10 [00:01<00:08,  1.09s/it][ WARNING  ] clipping oddtoevenharmonicenergyratio to maximum allowed value\n",
      "[ WARNING  ] clipping oddtoevenharmonicenergyratio to maximum allowed value\n",
      " 50%|█████     | 5/10 [00:09<00:10,  2.17s/it][ WARNING  ] clipping oddtoevenharmonicenergyratio to maximum allowed value\n",
      "[ WARNING  ] clipping oddtoevenharmonicenergyratio to maximum allowed value\n",
      " 60%|██████    | 6/10 [00:13<00:11,  2.91s/it][ WARNING  ] clipping oddtoevenharmonicenergyratio to maximum allowed value\n",
      "[ WARNING  ] clipping oddtoevenharmonicenergyratio to maximum allowed value\n",
      "[ WARNING  ] clipping oddtoevenharmonicenergyratio to maximum allowed value\n",
      "[ WARNING  ] clipping oddtoevenharmonicenergyratio to maximum allowed value\n",
      "[ WARNING  ] clipping oddtoevenharmonicenergyratio to maximum allowed value\n",
      "[ WARNING  ] clipping oddtoevenharmonicenergyratio to maximum allowed value\n",
      "[ WARNING  ] clipping oddtoevenharmonicenergyratio to maximum allowed value\n",
      " 70%|███████   | 7/10 [00:19<00:11,  3.71s/it][ WARNING  ] clipping oddtoevenharmonicenergyratio to maximum allowed value\n",
      "[ WARNING  ] clipping oddtoevenharmonicenergyratio to maximum allowed value\n",
      "[ WARNING  ] clipping oddtoevenharmonicenergyratio to maximum allowed value\n",
      "[ WARNING  ] clipping oddtoevenharmonicenergyratio to maximum allowed value\n",
      "[ WARNING  ] clipping oddtoevenharmonicenergyratio to maximum allowed value\n",
      " 90%|█████████ | 9/10 [00:31<00:05,  5.38s/it][ WARNING  ] clipping oddtoevenharmonicenergyratio to maximum allowed value\n",
      "[ WARNING  ] clipping oddtoevenharmonicenergyratio to maximum allowed value\n",
      "[ WARNING  ] clipping oddtoevenharmonicenergyratio to maximum allowed value\n",
      "[ WARNING  ] clipping oddtoevenharmonicenergyratio to maximum allowed value\n",
      "[ WARNING  ] clipping oddtoevenharmonicenergyratio to maximum allowed value\n",
      "[ WARNING  ] clipping oddtoevenharmonicenergyratio to maximum allowed value\n",
      "[ WARNING  ] clipping oddtoevenharmonicenergyratio to maximum allowed value\n",
      "[ WARNING  ] clipping oddtoevenharmonicenergyratio to maximum allowed value\n",
      "[ WARNING  ] clipping oddtoevenharmonicenergyratio to maximum allowed value\n",
      "[ WARNING  ] clipping oddtoevenharmonicenergyratio to maximum allowed value\n",
      "[ WARNING  ] clipping oddtoevenharmonicenergyratio to maximum allowed value\n",
      "[ WARNING  ] clipping oddtoevenharmonicenergyratio to maximum allowed value\n",
      "[ WARNING  ] clipping oddtoevenharmonicenergyratio to maximum allowed value\n",
      "[ WARNING  ] clipping oddtoevenharmonicenergyratio to maximum allowed value\n",
      "[ WARNING  ] clipping oddtoevenharmonicenergyratio to maximum allowed value\n",
      "[ WARNING  ] clipping oddtoevenharmonicenergyratio to maximum allowed value\n",
      "[ WARNING  ] clipping oddtoevenharmonicenergyratio to maximum allowed value\n",
      "[ WARNING  ] clipping oddtoevenharmonicenergyratio to maximum allowed value\n",
      "[ WARNING  ] clipping oddtoevenharmonicenergyratio to maximum allowed value\n",
      "[ WARNING  ] clipping oddtoevenharmonicenergyratio to maximum allowed value\n",
      "[ WARNING  ] clipping oddtoevenharmonicenergyratio to maximum allowed value\n",
      "[ WARNING  ] clipping oddtoevenharmonicenergyratio to maximum allowed value\n",
      "[ WARNING  ] clipping oddtoevenharmonicenergyratio to maximum allowed value\n",
      "[ WARNING  ] clipping oddtoevenharmonicenergyratio to maximum allowed value\n",
      "[ WARNING  ] clipping oddtoevenharmonicenergyratio to maximum allowed value\n",
      "100%|██████████| 10/10 [00:34<00:00,  3.46s/it]\n"
     ]
    },
    {
     "name": "stdout",
     "output_type": "stream",
     "text": [
      "SVM model successfully trained with accuracy 91% in the testing set\n"
     ]
    }
   ],
   "source": [
    "svm_accuracy = msc.train_model()\n"
   ],
   "metadata": {
    "collapsed": false,
    "pycharm": {
     "name": "#%%\n"
    }
   }
  },
  {
   "cell_type": "code",
   "execution_count": 6,
   "outputs": [],
   "source": [
    "% % capture\n",
    "# Get paths from created evaluation split\n",
    "eval_paths = [evaluation_split[x].audio_path for x in list(evaluation_split.keys())]\n",
    "\n",
    "# Compute prediction from list of paths\n",
    "predictions = msc.predict(eval_paths)"
   ],
   "metadata": {
    "collapsed": false,
    "pycharm": {
     "name": "#%%\n"
    }
   }
  },
  {
   "cell_type": "code",
   "execution_count": 15,
   "outputs": [],
   "source": [
    "import json"
   ],
   "metadata": {
    "collapsed": false,
    "pycharm": {
     "name": "#%%\n"
    }
   }
  },
  {
   "cell_type": "code",
   "execution_count": 17,
   "outputs": [
    {
     "name": "stdout",
     "output_type": "stream",
     "text": [
      "total: 697\n",
      "correct 546\n",
      "{\n",
      "  \"bheem\": {\n",
      "    \"correct\": 3,\n",
      "    \"wrong\": 0,\n",
      "    \"accuracy\": 100.0\n",
      "  },\n",
      "  \"cha\": {\n",
      "    \"correct\": 10,\n",
      "    \"wrong\": 4,\n",
      "    \"accuracy\": 71.42857142857143\n",
      "  },\n",
      "  \"dheem\": {\n",
      "    \"correct\": 22,\n",
      "    \"wrong\": 1,\n",
      "    \"accuracy\": 95.65217391304348\n",
      "  },\n",
      "  \"dhin\": {\n",
      "    \"correct\": 34,\n",
      "    \"wrong\": 3,\n",
      "    \"accuracy\": 91.89189189189189\n",
      "  },\n",
      "  \"num\": {\n",
      "    \"correct\": 48,\n",
      "    \"wrong\": 11,\n",
      "    \"accuracy\": 81.35593220338983\n",
      "  },\n",
      "  \"ta\": {\n",
      "    \"correct\": 82,\n",
      "    \"wrong\": 28,\n",
      "    \"accuracy\": 74.54545454545455\n",
      "  },\n",
      "  \"tha\": {\n",
      "    \"correct\": 104,\n",
      "    \"wrong\": 67,\n",
      "    \"accuracy\": 60.8187134502924\n",
      "  },\n",
      "  \"tham\": {\n",
      "    \"correct\": 9,\n",
      "    \"wrong\": 1,\n",
      "    \"accuracy\": 90.0\n",
      "  },\n",
      "  \"thi\": {\n",
      "    \"correct\": 191,\n",
      "    \"wrong\": 31,\n",
      "    \"accuracy\": 86.03603603603604\n",
      "  },\n",
      "  \"thom\": {\n",
      "    \"correct\": 43,\n",
      "    \"wrong\": 5,\n",
      "    \"accuracy\": 89.58333333333333\n",
      "  }\n",
      "}\n"
     ]
    }
   ],
   "source": [
    "# Selecting a random example from the predicted files\n",
    "predictions_stats = {x: {\"correct\": 0, \"wrong\": 0} for x in msc.list_strokes()}\n",
    "\n",
    "true_count = 0\n",
    "for file, prediction in predictions.items():\n",
    "    identifier = os.path.basename(file).split(\"__\")[0]\n",
    "    if evaluation_split[identifier].stroke_name == prediction:\n",
    "        predictions_stats[prediction][\"correct\"] += 1\n",
    "        true_count += 1\n",
    "    else:\n",
    "        predictions_stats[prediction][\"wrong\"] += 1\n",
    "\n",
    "for stroke, stat in predictions_stats.items():\n",
    "    predictions_stats[stroke][\"accuracy\"] = predictions_stats[stroke][\"correct\"]*100/(predictions_stats[stroke][\"correct\"]+ predictions_stats[stroke][\"wrong\"])\n",
    "\n",
    "print(\"total:\", len(predictions));\n",
    "print(\"correct\", true_count)\n",
    "\n",
    "print(json.dumps(predictions_stats, indent=2))"
   ],
   "metadata": {
    "collapsed": false,
    "pycharm": {
     "name": "#%%\n"
    }
   }
  },
  {
   "cell_type": "code",
   "execution_count": null,
   "outputs": [],
   "source": [],
   "metadata": {
    "collapsed": false,
    "pycharm": {
     "name": "#%%\n"
    }
   }
  }
 ],
 "metadata": {
  "kernelspec": {
   "display_name": "Python 3",
   "language": "python",
   "name": "python3"
  },
  "language_info": {
   "codemirror_mode": {
    "name": "ipython",
    "version": 2
   },
   "file_extension": ".py",
   "mimetype": "text/x-python",
   "name": "python",
   "nbconvert_exporter": "python",
   "pygments_lexer": "ipython2",
   "version": "2.7.6"
  }
 },
 "nbformat": 4,
 "nbformat_minor": 0
}